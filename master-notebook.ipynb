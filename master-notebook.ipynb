{
 "cells": [
  {
   "cell_type": "markdown",
   "metadata": {},
   "source": [
    "# Master Notebook\n",
    "\n",
    "<p class=\"lead\">This notebook executes a \n",
    "<a href=\"template-notebook.ipynb\">template notebook</a>\n",
    "passing different arguments.\n",
    "<p>\n",
    "\n",
    "## Boilerplate\n",
    "\n",
    "The module `nbrun.py` needs to be importable (i.e. placed in the current folder or in the python path):"
   ]
  },
  {
   "cell_type": "code",
   "execution_count": null,
   "metadata": {},
   "outputs": [],
   "source": [
    "from nbrun import run_notebook"
   ]
  },
  {
   "cell_type": "markdown",
   "metadata": {},
   "source": [
    "Create the folder where to save the executed notebooks:"
   ]
  },
  {
   "cell_type": "code",
   "execution_count": 7,
   "metadata": {},
   "outputs": [],
   "source": [
    "from pathlib import Path\n",
    "Path('reports').mkdir(exist_ok=True)"
   ]
  },
  {
   "cell_type": "markdown",
   "metadata": {},
   "source": [
    "## Execute notebooks"
   ]
  },
  {
   "cell_type": "code",
   "execution_count": null,
   "metadata": {},
   "outputs": [],
   "source": [
    "nb_name = 'template-notebook.ipynb'"
   ]
  },
  {
   "cell_type": "code",
   "execution_count": null,
   "metadata": {},
   "outputs": [],
   "source": [
    "for data_id in (0, 1, 2):\n",
    "    for analysis_type in ('a', 'b', 'c'):\n",
    "        nb_kwargs = {'data_id': data_id, 'analysis_type': analysis_type}\n",
    "        run_notebook(nb_name, \n",
    "                     out_path_ipynb=f'reports/executed_notebook_{data_id}_{analysis_type}',\n",
    "                     nb_kwargs=nb_kwargs)"
   ]
  },
  {
   "cell_type": "markdown",
   "metadata": {},
   "source": [
    "# Notes on the generated links\n",
    "\n",
    "`run_notebook()` by defaults displays links to template and output notebooks. \n",
    "Under some conditions these links can be broken. The following requirements\n",
    "must be followed to avoid link breakage.\n",
    "\n",
    "First, the template and output notebooks need to be\n",
    "accessible to jupyter notebook, so they need to be in a subfolder of the\n",
    "jupyter notebook startup folder.\n",
    "\n",
    "Second, the current working directory of the **master notebook**\n",
    "must be the folder containing the master notebook. \n",
    "This is the default when starting a new notebook.\n",
    "So, links are correctly generated unless you explicitly change dir \n",
    "(e.g. using `cd` or `os.chdir`).\n",
    "If you need to change working dir, just switch back to the \n",
    "original folder before calling `run_notebook()` to avoid broken links."
   ]
  }
 ],
 "metadata": {
  "kernelspec": {
   "display_name": "Python 3",
   "language": "python",
   "name": "python3"
  },
  "language_info": {
   "codemirror_mode": {
    "name": "ipython",
    "version": 3
   },
   "file_extension": ".py",
   "mimetype": "text/x-python",
   "name": "python",
   "nbconvert_exporter": "python",
   "pygments_lexer": "ipython3",
   "version": "3.6.5"
  },
  "toc": {
   "nav_menu": {
    "height": "84px",
    "width": "252px"
   },
   "number_sections": false,
   "sideBar": true,
   "skip_h1_title": false,
   "toc_cell": false,
   "toc_position": {},
   "toc_section_display": "block",
   "toc_window_display": false
  }
 },
 "nbformat": 4,
 "nbformat_minor": 1
}
